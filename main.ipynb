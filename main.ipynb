{
 "cells": [
  {
   "cell_type": "code",
   "execution_count": 1,
   "id": "af65d1fe",
   "metadata": {},
   "outputs": [],
   "source": [
    "import json\n",
    "import os\n",
    "import torch\n",
    "import clip\n",
    "from PIL import Image\n",
    "from sklearn.metrics.pairwise import cosine_similarity\n",
    "\n"
   ]
  },
  {
   "cell_type": "code",
   "execution_count": 2,
   "metadata": {},
   "outputs": [],
   "source": [
    "# Load the CLIP model\n",
    "device = \"cuda\" if torch.cuda.is_available() else \"cpu\"\n",
    "model, preprocess = clip.load(\"ViT-B/32\", device=device)\n",
    "\n"
   ]
  },
  {
   "cell_type": "code",
   "execution_count": 3,
   "metadata": {},
   "outputs": [],
   "source": [
    "# Load product data\n",
    "with open(\"img.json\", \"r\") as f:\n",
    "    products = json.load(f)\n",
    "\n"
   ]
  },
  {
   "cell_type": "code",
   "execution_count": 4,
   "id": "cbe6c901",
   "metadata": {},
   "outputs": [],
   "source": [
    "# Step 1: Encode all product images\n",
    "product_features = []\n",
    "product_ids = []\n",
    "\n",
    "for product in products:\n",
    "    image_path = os.path.join(\"products\", os.path.basename(product[\"image_path\"]))\n",
    "    try:\n",
    "        image = preprocess(Image.open(image_path)).unsqueeze(0).to(device)\n",
    "        with torch.no_grad():\n",
    "            feature = model.encode_image(image).cpu().numpy()\n",
    "        product_features.append(feature)\n",
    "        product_ids.append(product[\"id\"])\n",
    "    except Exception as e:\n",
    "        print(f\"Error loading image {image_path}: {e}\")\n",
    "\n"
   ]
  },
  {
   "cell_type": "code",
   "execution_count": 5,
   "id": "c4c1763e",
   "metadata": {},
   "outputs": [
    {
     "name": "stderr",
     "output_type": "stream",
     "text": [
      "/var/folders/l9/bpfz3cfd4m9fwlfld0g3dswc0000gn/T/ipykernel_8272/2165487848.py:2: UserWarning: Creating a tensor from a list of numpy.ndarrays is extremely slow. Please consider converting the list to a single numpy.ndarray with numpy.array() before converting to a tensor. (Triggered internally at /Users/runner/work/pytorch/pytorch/pytorch/torch/csrc/utils/tensor_new.cpp:278.)\n",
      "  product_features = torch.tensor([f[0] for f in product_features])\n"
     ]
    }
   ],
   "source": [
    "# Stack features\n",
    "product_features = torch.tensor([f[0] for f in product_features])\n",
    "\n"
   ]
  },
  {
   "cell_type": "code",
   "execution_count": 6,
   "id": "57541354",
   "metadata": {},
   "outputs": [],
   "source": [
    "# Step 2: Load and encode user-uploaded image\n",
    "user_image_path = \"wall.jpg\"  # <- replace this with actual test image\n",
    "user_image = preprocess(Image.open(user_image_path)).unsqueeze(0).to(device)\n",
    "\n"
   ]
  },
  {
   "cell_type": "code",
   "execution_count": null,
   "id": "3c27930a",
   "metadata": {},
   "outputs": [],
   "source": []
  },
  {
   "cell_type": "code",
   "execution_count": 7,
   "id": "fe15418b",
   "metadata": {},
   "outputs": [],
   "source": [
    "with torch.no_grad():\n",
    "    user_feature = model.encode_image(user_image).cpu().numpy()\n",
    "\n"
   ]
  },
  {
   "cell_type": "code",
   "execution_count": 8,
   "id": "be13c130",
   "metadata": {},
   "outputs": [],
   "source": [
    "# Step 3: Compute cosine similarity\n",
    "similarities = cosine_similarity(user_feature, product_features)[0]\n",
    "top_indices = similarities.argsort()[-5:][::-1]  # top 5\n",
    "\n"
   ]
  },
  {
   "cell_type": "code",
   "execution_count": 9,
   "id": "e8e16ba2",
   "metadata": {},
   "outputs": [
    {
     "name": "stdout",
     "output_type": "stream",
     "text": [
      "Top Recommendations:\n",
      "\n",
      "Name: Al Kaaba Premium Acrylic Horizontal Wall Art\n",
      "Category: acrylic\n",
      "Image: products/acrylic004.jpg\n",
      "Tags: kaaba, horizontal, religious, islamic\n",
      "\n",
      "Name: Arabic Calligraphy Premium Acrylic Vertical Wall Art\n",
      "Category: acrylic\n",
      "Image: products/acrylic006.jpg\n",
      "Tags: calligraphy, arabic, vertical, islamic\n",
      "\n",
      "Name: Allah Is For All Premium Acrylic Horizontal Wall Art\n",
      "Category: acrylic\n",
      "Image: products/acrylic005.jpg\n",
      "Tags: allah, horizontal, spiritual, islamic\n",
      "\n",
      "Name: 3D Jesus Artistry Premium Acrylic Square Wall Art\n",
      "Category: acrylic\n",
      "Image: products/acrylic001.jpg\n",
      "Tags: Jesus, 3D, square, spiritual\n",
      "\n",
      "Name: 7 White Running Horses in The Sea With Sunrise Premium Acrylic Horizontal Wall Art\n",
      "Category: acrylic\n",
      "Image: products/acrylic003.jpg\n",
      "Tags: horses, sunrise, horizontal, nature\n"
     ]
    }
   ],
   "source": [
    "# Step 4: Show recommendations\n",
    "print(\"Top Recommendations:\")\n",
    "for idx in top_indices:\n",
    "    product_id = product_ids[idx]\n",
    "    matched_product = next((p for p in products if p[\"id\"] == product_id), None)\n",
    "    if matched_product:\n",
    "        print(f\"\\nName: {matched_product['name']}\")\n",
    "        print(f\"Category: {matched_product['category']}\")\n",
    "        print(f\"Image: {matched_product['image_path']}\")\n",
    "        print(f\"Tags: {', '.join(matched_product['tags'])}\")"
   ]
  },
  {
   "cell_type": "code",
   "execution_count": 10,
   "id": "1b2640d2",
   "metadata": {},
   "outputs": [
    {
     "name": "stdout",
     "output_type": "stream",
     "text": [
      "✅ Product features saved to product_features.pkl\n"
     ]
    }
   ],
   "source": [
    "import pickle\n",
    "import numpy as np\n",
    "\n",
    "# After you computed product_features and product_ids\n",
    "data_to_save = {\n",
    "    \"product_features\": np.array([f[0] for f in product_features]),  # NumPy array\n",
    "    \"product_ids\": product_ids,\n",
    "    \"products\": products\n",
    "}\n",
    "\n",
    "with open(\"product_features.pkl\", \"wb\") as f:\n",
    "    pickle.dump(data_to_save, f)\n",
    "\n",
    "print(\"✅ Product features saved to product_features.pkl\")\n"
   ]
  },
  {
   "cell_type": "code",
   "execution_count": 11,
   "id": "8b9d1eb6",
   "metadata": {},
   "outputs": [
    {
     "name": "stdout",
     "output_type": "stream",
     "text": [
      "✅ Product features loaded from product_features.pkl\n"
     ]
    }
   ],
   "source": [
    "import pickle\n",
    "\n",
    "with open(\"product_features.pkl\", \"rb\") as f:\n",
    "    saved_data = pickle.load(f)\n",
    "\n",
    "product_features = saved_data[\"product_features\"]\n",
    "product_ids = saved_data[\"product_ids\"]\n",
    "products = saved_data[\"products\"]\n",
    "\n",
    "print(\"✅ Product features loaded from product_features.pkl\")\n"
   ]
  },
  {
   "cell_type": "code",
   "execution_count": null,
   "id": "5294dc2a",
   "metadata": {},
   "outputs": [
    {
     "data": {
      "text/plain": [
       "array([ 0.49003962, -0.1179328 ,  0.07294275,  0.27493745, -0.14781323,\n",
       "        0.03469466,  0.32410622,  0.52520555], dtype=float32)"
      ]
     },
     "execution_count": 12,
     "metadata": {},
     "output_type": "execute_result"
    }
   ],
   "source": []
  },
  {
   "cell_type": "code",
   "execution_count": 21,
   "id": "da9aa07e",
   "metadata": {},
   "outputs": [
    {
     "name": "stdout",
     "output_type": "stream",
     "text": [
      "Lib are imported\n",
      "Clip model is loaded\n",
      "Pkl model is loaded\n",
      "Flatten\n",
      "🔍 Top Recommendations for wall.jpg:\n",
      "\n",
      "Name: Allah Is For All Premium Acrylic Horizontal Wall Art\n",
      "Category: acrylic\n",
      "Image: products/acrylic005.jpg\n",
      "Tags: allah, horizontal, spiritual, islamic\n",
      "----------------------------------------\n",
      "Name: 7 Running White Horses in The Sea Premium Acrylic Horizontal Wall Art\n",
      "Category: acrylic\n",
      "Image: products/acrylic002.jpg\n",
      "Tags: horses, sea, horizontal, nature\n",
      "----------------------------------------\n",
      "Name: Multi Waves Epoxy Resin Wall Clock\n",
      "Category: wall_clock\n",
      "Image: products/clock002.jpg\n",
      "Tags: resin, waves, multi-color, round, epoxy\n",
      "----------------------------------------\n",
      "Name: Green Beach View Epoxy Resin Wall Clock\n",
      "Category: wall_clock\n",
      "Image: products/clock001.jpg\n",
      "Tags: resin, green, beach, round, epoxy\n",
      "----------------------------------------\n",
      "Name: Arabic Calligraphy Premium Acrylic Vertical Wall Art\n",
      "Category: acrylic\n",
      "Image: products/acrylic006.jpg\n",
      "Tags: calligraphy, arabic, vertical, islamic\n",
      "----------------------------------------\n"
     ]
    }
   ],
   "source": [
    "import json\n",
    "import os\n",
    "import torch\n",
    "import clip\n",
    "from PIL import Image\n",
    "from sklearn.metrics.pairwise import cosine_similarity\n",
    "import pickle\n",
    "import numpy as np\n",
    "\n",
    "print(\"Lib are imported\")\n",
    "\n",
    "# ===== Step 1: Load CLIP Model =====\n",
    "device = \"cuda\" if torch.cuda.is_available() else \"cpu\"\n",
    "model, preprocess = clip.load(\"ViT-B/32\", device=device)\n",
    "\n",
    "print(\"Clip model is loaded\")\n",
    "\n",
    "# ===== Step 2: Load saved features =====\n",
    "with open(\"product_features.pkl\", \"rb\") as f:\n",
    "    saved_data = pickle.load(f)\n",
    "    print(\"Pkl model is loaded\")\n",
    "\n",
    "# Flatten features to shape (N, 512)\n",
    "product_features = np.array([np.array(f).flatten() for f in saved_data[\"product_features\"]])\n",
    "product_ids = saved_data[\"product_ids\"]\n",
    "products = saved_data[\"products\"]\n",
    "print(\"Flatten\")\n",
    "# ===== Step 3: Load and encode test image =====\n",
    "test_image_path = \"wall.jpg\"\n",
    "image = preprocess(Image.open(test_image_path)).unsqueeze(0).to(device)\n",
    "\n",
    "with torch.no_grad():\n",
    "    test_feature = model.encode_image(image).cpu().numpy().flatten().reshape(512, 1)\n",
    "    # test_feature = np.array(test_feature).reshape(1, -1)\n",
    "\n",
    "# ===== Step 4: Compute cosine similarity =====\n",
    "similarities = cosine_similarity(test_feature, product_features)[0]\n",
    "top_indices = similarities.argsort()[-5:][::-1]  # Top 5 matches\n",
    "\n",
    "# ===== Step 5: Print recommendations =====\n",
    "print(\"🔍 Top Recommendations for wall.jpg:\\n\")\n",
    "for idx in top_indices:\n",
    "    product_id = product_ids[idx]\n",
    "    matched_product = next((p for p in products if p[\"id\"] == product_id), None)\n",
    "    if matched_product:\n",
    "        print(f\"Name: {matched_product['name']}\")\n",
    "        print(f\"Category: {matched_product['category']}\")\n",
    "        print(f\"Image: {matched_product['image_path']}\")\n",
    "        print(f\"Tags: {', '.join(matched_product['tags'])}\")\n",
    "        print(\"-\" * 40)\n"
   ]
  },
  {
   "cell_type": "code",
   "execution_count": null,
   "id": "2f832dab",
   "metadata": {},
   "outputs": [],
   "source": []
  }
 ],
 "metadata": {
  "kernelspec": {
   "display_name": "Python 3",
   "language": "python",
   "name": "python3"
  },
  "language_info": {
   "codemirror_mode": {
    "name": "ipython",
    "version": 3
   },
   "file_extension": ".py",
   "mimetype": "text/x-python",
   "name": "python",
   "nbconvert_exporter": "python",
   "pygments_lexer": "ipython3",
   "version": "3.11.9"
  }
 },
 "nbformat": 4,
 "nbformat_minor": 5
}
